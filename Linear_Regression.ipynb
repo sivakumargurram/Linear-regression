{
  "nbformat": 4,
  "nbformat_minor": 0,
  "metadata": {
    "colab": {
      "name": "Linear-Regression.ipynb",
      "provenance": [],
      "collapsed_sections": [],
      "mount_file_id": "1eBca9WCUtoiavHUoAa5nY797ZSo2XxA7",
      "authorship_tag": "ABX9TyMC0/TGt7BPurb74aIdOhHA",
      "include_colab_link": true
    },
    "kernelspec": {
      "name": "python3",
      "display_name": "Python 3"
    }
  },
  "cells": [
    {
      "cell_type": "markdown",
      "metadata": {
        "id": "view-in-github",
        "colab_type": "text"
      },
      "source": [
        "<a href=\"https://colab.research.google.com/github/sivakumargurram/Linear-regression/blob/master/Linear_Regression.ipynb\" target=\"_parent\"><img src=\"https://colab.research.google.com/assets/colab-badge.svg\" alt=\"Open In Colab\"/></a>"
      ]
    },
    {
      "cell_type": "markdown",
      "metadata": {
        "id": "cEm3qAaPJjGf"
      },
      "source": [
        "## **Load Libraries** \r\n",
        "\r\n",
        "\r\n"
      ]
    },
    {
      "cell_type": "code",
      "metadata": {
        "id": "BDNPsxyEqFy2"
      },
      "source": [
        "import pandas as pd\r\n",
        "import numpy as np\r\n",
        "import matplotlib.pyplot as plt\r\n",
        "import seaborn as sns "
      ],
      "execution_count": 1,
      "outputs": []
    },
    {
      "cell_type": "markdown",
      "metadata": {
        "id": "LxZ1_JXUKbzY"
      },
      "source": [
        "# **Importing Data**"
      ]
    },
    {
      "cell_type": "code",
      "metadata": {
        "id": "duQ4esa-q6_L"
      },
      "source": [
        "data = pd.read_csv('/content/drive/MyDrive/GitHub/Linear_Regression_Data.csv')"
      ],
      "execution_count": 2,
      "outputs": []
    },
    {
      "cell_type": "markdown",
      "metadata": {
        "id": "2KHKQgd2Luve"
      },
      "source": [
        "## Descriptive Stats"
      ]
    },
    {
      "cell_type": "code",
      "metadata": {
        "colab": {
          "base_uri": "https://localhost:8080/",
          "height": 204
        },
        "id": "TyURJmE61eC8",
        "outputId": "df8efc17-22fb-49b4-d9a8-68484cfa2695"
      },
      "source": [
        "data.head()"
      ],
      "execution_count": 32,
      "outputs": [
        {
          "output_type": "execute_result",
          "data": {
            "text/html": [
              "<div>\n",
              "<style scoped>\n",
              "    .dataframe tbody tr th:only-of-type {\n",
              "        vertical-align: middle;\n",
              "    }\n",
              "\n",
              "    .dataframe tbody tr th {\n",
              "        vertical-align: top;\n",
              "    }\n",
              "\n",
              "    .dataframe thead th {\n",
              "        text-align: right;\n",
              "    }\n",
              "</style>\n",
              "<table border=\"1\" class=\"dataframe\">\n",
              "  <thead>\n",
              "    <tr style=\"text-align: right;\">\n",
              "      <th></th>\n",
              "      <th>Age</th>\n",
              "      <th>Average Yearly Spent on Medical Expenses</th>\n",
              "    </tr>\n",
              "  </thead>\n",
              "  <tbody>\n",
              "    <tr>\n",
              "      <th>0</th>\n",
              "      <td>15</td>\n",
              "      <td>5000</td>\n",
              "    </tr>\n",
              "    <tr>\n",
              "      <th>1</th>\n",
              "      <td>20</td>\n",
              "      <td>7000</td>\n",
              "    </tr>\n",
              "    <tr>\n",
              "      <th>2</th>\n",
              "      <td>25</td>\n",
              "      <td>10000</td>\n",
              "    </tr>\n",
              "    <tr>\n",
              "      <th>3</th>\n",
              "      <td>30</td>\n",
              "      <td>14000</td>\n",
              "    </tr>\n",
              "    <tr>\n",
              "      <th>4</th>\n",
              "      <td>35</td>\n",
              "      <td>23000</td>\n",
              "    </tr>\n",
              "  </tbody>\n",
              "</table>\n",
              "</div>"
            ],
            "text/plain": [
              "   Age  Average Yearly Spent on Medical Expenses\n",
              "0   15                                      5000\n",
              "1   20                                      7000\n",
              "2   25                                     10000\n",
              "3   30                                     14000\n",
              "4   35                                     23000"
            ]
          },
          "metadata": {
            "tags": []
          },
          "execution_count": 32
        }
      ]
    },
    {
      "cell_type": "code",
      "metadata": {
        "colab": {
          "base_uri": "https://localhost:8080/",
          "height": 204
        },
        "id": "NbAp7vs57CR7",
        "outputId": "01ac541f-504f-4972-9f69-7ff297290a9d"
      },
      "source": [
        "data.tail()"
      ],
      "execution_count": 4,
      "outputs": [
        {
          "output_type": "execute_result",
          "data": {
            "text/html": [
              "<div>\n",
              "<style scoped>\n",
              "    .dataframe tbody tr th:only-of-type {\n",
              "        vertical-align: middle;\n",
              "    }\n",
              "\n",
              "    .dataframe tbody tr th {\n",
              "        vertical-align: top;\n",
              "    }\n",
              "\n",
              "    .dataframe thead th {\n",
              "        text-align: right;\n",
              "    }\n",
              "</style>\n",
              "<table border=\"1\" class=\"dataframe\">\n",
              "  <thead>\n",
              "    <tr style=\"text-align: right;\">\n",
              "      <th></th>\n",
              "      <th>Age</th>\n",
              "      <th>Average Yearly Spent on Medical Expenses</th>\n",
              "    </tr>\n",
              "  </thead>\n",
              "  <tbody>\n",
              "    <tr>\n",
              "      <th>11</th>\n",
              "      <td>70</td>\n",
              "      <td>45000</td>\n",
              "    </tr>\n",
              "    <tr>\n",
              "      <th>12</th>\n",
              "      <td>75</td>\n",
              "      <td>50000</td>\n",
              "    </tr>\n",
              "    <tr>\n",
              "      <th>13</th>\n",
              "      <td>80</td>\n",
              "      <td>54000</td>\n",
              "    </tr>\n",
              "    <tr>\n",
              "      <th>14</th>\n",
              "      <td>85</td>\n",
              "      <td>60000</td>\n",
              "    </tr>\n",
              "    <tr>\n",
              "      <th>15</th>\n",
              "      <td>90</td>\n",
              "      <td>75000</td>\n",
              "    </tr>\n",
              "  </tbody>\n",
              "</table>\n",
              "</div>"
            ],
            "text/plain": [
              "    Age  Average Yearly Spent on Medical Expenses\n",
              "11   70                                     45000\n",
              "12   75                                     50000\n",
              "13   80                                     54000\n",
              "14   85                                     60000\n",
              "15   90                                     75000"
            ]
          },
          "metadata": {
            "tags": []
          },
          "execution_count": 4
        }
      ]
    },
    {
      "cell_type": "code",
      "metadata": {
        "colab": {
          "base_uri": "https://localhost:8080/",
          "height": 297
        },
        "id": "yn1B7xfo8znu",
        "outputId": "c35a92a4-6813-421c-be82-13e7105b07a5"
      },
      "source": [
        "data.describe()"
      ],
      "execution_count": 5,
      "outputs": [
        {
          "output_type": "execute_result",
          "data": {
            "text/html": [
              "<div>\n",
              "<style scoped>\n",
              "    .dataframe tbody tr th:only-of-type {\n",
              "        vertical-align: middle;\n",
              "    }\n",
              "\n",
              "    .dataframe tbody tr th {\n",
              "        vertical-align: top;\n",
              "    }\n",
              "\n",
              "    .dataframe thead th {\n",
              "        text-align: right;\n",
              "    }\n",
              "</style>\n",
              "<table border=\"1\" class=\"dataframe\">\n",
              "  <thead>\n",
              "    <tr style=\"text-align: right;\">\n",
              "      <th></th>\n",
              "      <th>Age</th>\n",
              "      <th>Average Yearly Spent on Medical Expenses</th>\n",
              "    </tr>\n",
              "  </thead>\n",
              "  <tbody>\n",
              "    <tr>\n",
              "      <th>count</th>\n",
              "      <td>16.000000</td>\n",
              "      <td>16.000000</td>\n",
              "    </tr>\n",
              "    <tr>\n",
              "      <th>mean</th>\n",
              "      <td>52.500000</td>\n",
              "      <td>33812.500000</td>\n",
              "    </tr>\n",
              "    <tr>\n",
              "      <th>std</th>\n",
              "      <td>23.804761</td>\n",
              "      <td>19893.780435</td>\n",
              "    </tr>\n",
              "    <tr>\n",
              "      <th>min</th>\n",
              "      <td>15.000000</td>\n",
              "      <td>5000.000000</td>\n",
              "    </tr>\n",
              "    <tr>\n",
              "      <th>25%</th>\n",
              "      <td>33.750000</td>\n",
              "      <td>20750.000000</td>\n",
              "    </tr>\n",
              "    <tr>\n",
              "      <th>50%</th>\n",
              "      <td>52.500000</td>\n",
              "      <td>33500.000000</td>\n",
              "    </tr>\n",
              "    <tr>\n",
              "      <th>75%</th>\n",
              "      <td>71.250000</td>\n",
              "      <td>46250.000000</td>\n",
              "    </tr>\n",
              "    <tr>\n",
              "      <th>max</th>\n",
              "      <td>90.000000</td>\n",
              "      <td>75000.000000</td>\n",
              "    </tr>\n",
              "  </tbody>\n",
              "</table>\n",
              "</div>"
            ],
            "text/plain": [
              "             Age  Average Yearly Spent on Medical Expenses\n",
              "count  16.000000                                 16.000000\n",
              "mean   52.500000                              33812.500000\n",
              "std    23.804761                              19893.780435\n",
              "min    15.000000                               5000.000000\n",
              "25%    33.750000                              20750.000000\n",
              "50%    52.500000                              33500.000000\n",
              "75%    71.250000                              46250.000000\n",
              "max    90.000000                              75000.000000"
            ]
          },
          "metadata": {
            "tags": []
          },
          "execution_count": 5
        }
      ]
    },
    {
      "cell_type": "markdown",
      "metadata": {
        "id": "4YIpN4yJL9zt"
      },
      "source": [
        "## Data Visualization"
      ]
    },
    {
      "cell_type": "code",
      "metadata": {
        "colab": {
          "base_uri": "https://localhost:8080/",
          "height": 296
        },
        "id": "ak1tlH8-L7O8",
        "outputId": "f6556f87-e39e-4d30-8c69-103104adcd7a"
      },
      "source": [
        "sns.scatterplot(x=data['Age'], y=data['Average Yearly Spent on Medical Expenses'])"
      ],
      "execution_count": 6,
      "outputs": [
        {
          "output_type": "execute_result",
          "data": {
            "text/plain": [
              "<matplotlib.axes._subplots.AxesSubplot at 0x7f20bfc736a0>"
            ]
          },
          "metadata": {
            "tags": []
          },
          "execution_count": 6
        },
        {
          "output_type": "display_data",
          "data": {
            "image/png": "[encoded data removed]",
            "text/plain": [
              "<Figure size 432x288 with 1 Axes>"
            ]
          },
          "metadata": {
            "tags": [],
            "needs_background": "light"
          }
        }
      ]
    },
    {
      "cell_type": "code",
      "metadata": {
        "colab": {
          "base_uri": "https://localhost:8080/",
          "height": 458
        },
        "id": "Si3uqguKHHIg",
        "outputId": "33520638-b158-48a5-8f70-81233c1abd39"
      },
      "source": [
        "sns.jointplot(x='Age', y= 'Average Yearly Spent on Medical Expenses', data=data, kind='reg')"
      ],
      "execution_count": 7,
      "outputs": [
        {
          "output_type": "execute_result",
          "data": {
            "text/plain": [
              "<seaborn.axisgrid.JointGrid at 0x7f20bf0deeb8>"
            ]
          },
          "metadata": {
            "tags": []
          },
          "execution_count": 7
        },
        {
          "output_type": "display_data",
          "data": {
            "image/png": "[encoded data removed]",
            "text/plain": [
              "<Figure size 432x432 with 3 Axes>"
            ]
          },
          "metadata": {
            "tags": [],
            "needs_background": "light"
          }
        }
      ]
    },
    {
      "cell_type": "code",
      "metadata": {
        "colab": {
          "base_uri": "https://localhost:8080/",
          "height": 296
        },
        "id": "c_36TCceN8_G",
        "outputId": "cc0403fa-3a1b-4dfd-ce0d-9a4033a85eb2"
      },
      "source": [
        "sns.scatterplot(x=data['Age'], y=data['Average Yearly Spent on Medical Expenses'])"
      ],
      "execution_count": 8,
      "outputs": [
        {
          "output_type": "execute_result",
          "data": {
            "text/plain": [
              "<matplotlib.axes._subplots.AxesSubplot at 0x7f20bc310240>"
            ]
          },
          "metadata": {
            "tags": []
          },
          "execution_count": 8
        },
        {
          "output_type": "display_data",
          "data": {
            "image/png": "[encoded data removed]",
            "text/plain": [
              "<Figure size 432x288 with 1 Axes>"
            ]
          },
          "metadata": {
            "tags": [],
            "needs_background": "light"
          }
        }
      ]
    },
    {
      "cell_type": "code",
      "metadata": {
        "colab": {
          "base_uri": "https://localhost:8080/",
          "height": 296
        },
        "id": "TDdmd3aGNEmr",
        "outputId": "f8462147-6bbf-4d20-ac0b-cd0d68f03571"
      },
      "source": [
        "sns.boxplot(x=data['Age'], color='yellow')"
      ],
      "execution_count": 9,
      "outputs": [
        {
          "output_type": "execute_result",
          "data": {
            "text/plain": [
              "<matplotlib.axes._subplots.AxesSubplot at 0x7f20bc3586a0>"
            ]
          },
          "metadata": {
            "tags": []
          },
          "execution_count": 9
        },
        {
          "output_type": "display_data",
          "data": {
            "image/png": "[encoded data removed]",
            "text/plain": [
              "<Figure size 432x288 with 1 Axes>"
            ]
          },
          "metadata": {
            "tags": [],
            "needs_background": "light"
          }
        }
      ]
    },
    {
      "cell_type": "markdown",
      "metadata": {
        "id": "GYK5zEVzrU4F"
      },
      "source": [
        "# Segregating X & Y variables"
      ]
    },
    {
      "cell_type": "code",
      "metadata": {
        "id": "Kf7QQFweMdzh"
      },
      "source": [
        "x = data.iloc[:, :-1].values\r\n",
        "y = data.iloc[:, -1].values"
      ],
      "execution_count": 10,
      "outputs": []
    },
    {
      "cell_type": "code",
      "metadata": {
        "colab": {
          "base_uri": "https://localhost:8080/"
        },
        "id": "Kt7lBiYwMr1n",
        "outputId": "2ae15353-b6c5-45ed-ec03-94f344ec7387"
      },
      "source": [
        "x"
      ],
      "execution_count": 11,
      "outputs": [
        {
          "output_type": "execute_result",
          "data": {
            "text/plain": [
              "array([[15],\n",
              "       [20],\n",
              "       [25],\n",
              "       [30],\n",
              "       [35],\n",
              "       [40],\n",
              "       [45],\n",
              "       [50],\n",
              "       [55],\n",
              "       [60],\n",
              "       [65],\n",
              "       [70],\n",
              "       [75],\n",
              "       [80],\n",
              "       [85],\n",
              "       [90]])"
            ]
          },
          "metadata": {
            "tags": []
          },
          "execution_count": 11
        }
      ]
    },
    {
      "cell_type": "code",
      "metadata": {
        "colab": {
          "base_uri": "https://localhost:8080/"
        },
        "id": "U1BF62grMusP",
        "outputId": "68959b9f-7c18-48c0-cb1a-84ebe5485a9b"
      },
      "source": [
        "y"
      ],
      "execution_count": 12,
      "outputs": [
        {
          "output_type": "execute_result",
          "data": {
            "text/plain": [
              "array([ 5000,  7000, 10000, 14000, 23000, 25000, 30000, 32000, 35000,\n",
              "       37000, 39000, 45000, 50000, 54000, 60000, 75000])"
            ]
          },
          "metadata": {
            "tags": []
          },
          "execution_count": 12
        }
      ]
    },
    {
      "cell_type": "markdown",
      "metadata": {
        "id": "Ha4AdcyUrkM3"
      },
      "source": [
        "# Test and Train Split"
      ]
    },
    {
      "cell_type": "code",
      "metadata": {
        "id": "ckmR68USJ8zA"
      },
      "source": [
        "from sklearn.model_selection import train_test_split"
      ],
      "execution_count": 13,
      "outputs": []
    },
    {
      "cell_type": "code",
      "metadata": {
        "colab": {
          "base_uri": "https://localhost:8080/"
        },
        "id": "Vi7DU65BKDg4",
        "outputId": "60b9120e-a36a-452b-f32a-a15698500f1b"
      },
      "source": [
        "x_train, x_test, y_train, y_test = train_test_split(x,y, test_size=0.2, random_state=42)\r\n",
        "x_train = np.reshape(x_train, (-1,1))\r\n",
        "x_test = np.reshape(x_test, (-1,1))\r\n",
        "y_train = np.reshape(y_train, (-1,1))\r\n",
        "y_test = np.reshape(y_test, (-1,1))\r\n",
        "\r\n",
        "#\r\n",
        "print(x_train.shape)\r\n",
        "print(x_test.shape)\r\n",
        "print(y_train.shape)\r\n",
        "print(y_test.shape)"
      ],
      "execution_count": 14,
      "outputs": [
        {
          "output_type": "stream",
          "text": [
            "(12, 1)\n",
            "(4, 1)\n",
            "(12, 1)\n",
            "(4, 1)\n"
          ],
          "name": "stdout"
        }
      ]
    },
    {
      "cell_type": "markdown",
      "metadata": {
        "id": "NP1cMfNMrstO"
      },
      "source": [
        "# Linear Regression Model Deployment on Training Set"
      ]
    },
    {
      "cell_type": "code",
      "metadata": {
        "id": "PBg2VP65HkOu"
      },
      "source": [
        "from sklearn.linear_model import LinearRegression"
      ],
      "execution_count": 15,
      "outputs": []
    },
    {
      "cell_type": "code",
      "metadata": {
        "id": "9UBjVVbxIK4E"
      },
      "source": [
        "lr = LinearRegression()"
      ],
      "execution_count": 16,
      "outputs": []
    },
    {
      "cell_type": "code",
      "metadata": {
        "colab": {
          "base_uri": "https://localhost:8080/"
        },
        "id": "hch0BQkgIQ7Q",
        "outputId": "06759d59-fdd1-4735-a812-cf66983a1861"
      },
      "source": [
        "lr.fit(x_train, y_train)"
      ],
      "execution_count": 17,
      "outputs": [
        {
          "output_type": "execute_result",
          "data": {
            "text/plain": [
              "LinearRegression()"
            ]
          },
          "metadata": {
            "tags": []
          },
          "execution_count": 17
        }
      ]
    },
    {
      "cell_type": "code",
      "metadata": {
        "colab": {
          "base_uri": "https://localhost:8080/"
        },
        "id": "Z0thlNNzNNEA",
        "outputId": "413584c6-9d5f-49c7-9fb4-734441ac9b93"
      },
      "source": [
        "x_test"
      ],
      "execution_count": 18,
      "outputs": [
        {
          "output_type": "execute_result",
          "data": {
            "text/plain": [
              "array([[15],\n",
              "       [20],\n",
              "       [40],\n",
              "       [85]])"
            ]
          },
          "metadata": {
            "tags": []
          },
          "execution_count": 18
        }
      ]
    },
    {
      "cell_type": "code",
      "metadata": {
        "colab": {
          "base_uri": "https://localhost:8080/"
        },
        "id": "5QTHkC5FNRAZ",
        "outputId": "3f048c26-c96c-47cf-a082-ea5a2b8bbf7c"
      },
      "source": [
        "y_test"
      ],
      "execution_count": 19,
      "outputs": [
        {
          "output_type": "execute_result",
          "data": {
            "text/plain": [
              "array([[ 5000],\n",
              "       [ 7000],\n",
              "       [25000],\n",
              "       [60000]])"
            ]
          },
          "metadata": {
            "tags": []
          },
          "execution_count": 19
        }
      ]
    },
    {
      "cell_type": "markdown",
      "metadata": {
        "id": "afKKPvS0r9s6"
      },
      "source": [
        "# Prediciting Test Results"
      ]
    },
    {
      "cell_type": "code",
      "metadata": {
        "id": "rLcCWaNZNDli"
      },
      "source": [
        "pred=lr.predict(x_test)"
      ],
      "execution_count": 20,
      "outputs": []
    },
    {
      "cell_type": "markdown",
      "metadata": {
        "id": "0WGI8aPvsJL8"
      },
      "source": [
        "# Model Visualization on Training Data"
      ]
    },
    {
      "cell_type": "code",
      "metadata": {
        "colab": {
          "base_uri": "https://localhost:8080/",
          "height": 295
        },
        "id": "qHTkMz4rPmuO",
        "outputId": "1ceb77fc-d916-43bc-90aa-4fc994329ef7"
      },
      "source": [
        "plt.scatter(x_train,y_train, color='blue')\r\n",
        "plt.plot(x_train, lr.predict(x_train), color='red')\r\n",
        "plt.title('Training Data')\r\n",
        "plt.xlabel('age')\r\n",
        "plt.ylabel('Avg Sepnt in Years')\r\n",
        "plt.show()"
      ],
      "execution_count": 21,
      "outputs": [
        {
          "output_type": "display_data",
          "data": {
            "image/png": "[encoded data removed]",
            "text/plain": [
              "<Figure size 432x288 with 1 Axes>"
            ]
          },
          "metadata": {
            "tags": [],
            "needs_background": "light"
          }
        }
      ]
    },
    {
      "cell_type": "markdown",
      "metadata": {
        "id": "lMAMDMPGsV2P"
      },
      "source": [
        "# Model Visualization on Test Data"
      ]
    },
    {
      "cell_type": "code",
      "metadata": {
        "colab": {
          "base_uri": "https://localhost:8080/",
          "height": 295
        },
        "id": "M1enyIrb6Rb1",
        "outputId": "3c616c5f-ea6d-494b-fd9a-a498b99b1e39"
      },
      "source": [
        "plt.scatter(x_test, y_test, color='blue')\r\n",
        "plt.plot(x_train, lr.predict(x_train), color='red')\r\n",
        "plt.title('Test Data')\r\n",
        "plt.xlabel('Age')\r\n",
        "plt.ylabel('Avg. Spent in Years')\r\n",
        "plt.show()"
      ],
      "execution_count": 22,
      "outputs": [
        {
          "output_type": "display_data",
          "data": {
            "image/png": "[encoded data removed]",
            "text/plain": [
              "<Figure size 432x288 with 1 Axes>"
            ]
          },
          "metadata": {
            "tags": [],
            "needs_background": "light"
          }
        }
      ]
    },
    {
      "cell_type": "markdown",
      "metadata": {
        "id": "vGAexXCwsdc8"
      },
      "source": [
        "# Model Evaluation (Linear Metrics)"
      ]
    },
    {
      "cell_type": "code",
      "metadata": {
        "id": "mRWFS70Rsa3H"
      },
      "source": [
        "from sklearn import metrics"
      ],
      "execution_count": 23,
      "outputs": []
    },
    {
      "cell_type": "code",
      "metadata": {
        "colab": {
          "base_uri": "https://localhost:8080/"
        },
        "id": "xiGb8tdsya2l",
        "outputId": "dd7fe2fb-7073-4cfc-d01d-d1ddf573aff5"
      },
      "source": [
        "print(lr.coef_)"
      ],
      "execution_count": 24,
      "outputs": [
        {
          "output_type": "stream",
          "text": [
            "[[848.01444043]]\n"
          ],
          "name": "stdout"
        }
      ]
    },
    {
      "cell_type": "code",
      "metadata": {
        "colab": {
          "base_uri": "https://localhost:8080/"
        },
        "id": "F4Bip0w-y3DV",
        "outputId": "c3500c7f-cb02-4d1e-eb75-c1c06bc03a48"
      },
      "source": [
        "print(lr.intercept_)"
      ],
      "execution_count": 25,
      "outputs": [
        {
          "output_type": "stream",
          "text": [
            "[-11054.15162455]\n"
          ],
          "name": "stdout"
        }
      ]
    },
    {
      "cell_type": "code",
      "metadata": {
        "colab": {
          "base_uri": "https://localhost:8080/"
        },
        "id": "itmPBLj9zF92",
        "outputId": "f4d41531-fc56-4995-a3c0-acf48ae6abd2"
      },
      "source": [
        "metrics.mean_absolute_error(y_test, pred)"
      ],
      "execution_count": 26,
      "outputs": [
        {
          "output_type": "execute_result",
          "data": {
            "text/plain": [
              "1897.1119133573925"
            ]
          },
          "metadata": {
            "tags": []
          },
          "execution_count": 26
        }
      ]
    },
    {
      "cell_type": "code",
      "metadata": {
        "colab": {
          "base_uri": "https://localhost:8080/"
        },
        "id": "ZKvOL348z5hD",
        "outputId": "4333091c-5845-4de1-8eb2-02f97f964359"
      },
      "source": [
        "metrics.mean_squared_error(y_test, pred)"
      ],
      "execution_count": 27,
      "outputs": [
        {
          "output_type": "execute_result",
          "data": {
            "text/plain": [
              "4479670.333250757"
            ]
          },
          "metadata": {
            "tags": []
          },
          "execution_count": 27
        }
      ]
    },
    {
      "cell_type": "code",
      "metadata": {
        "colab": {
          "base_uri": "https://localhost:8080/"
        },
        "id": "94gNIrjs0J8T",
        "outputId": "f60e6dde-1c45-4c2e-f633-f93bdd3b2e3a"
      },
      "source": [
        "metrics.r2_score(y_test, pred)"
      ],
      "execution_count": 28,
      "outputs": [
        {
          "output_type": "execute_result",
          "data": {
            "text/plain": [
              "0.9907955919696915"
            ]
          },
          "metadata": {
            "tags": []
          },
          "execution_count": 28
        }
      ]
    },
    {
      "cell_type": "markdown",
      "metadata": {
        "id": "m6ZdxTxEtlzr"
      },
      "source": [
        "# Predicting Avg. Medical Expenses for Different Age's"
      ]
    },
    {
      "cell_type": "code",
      "metadata": {
        "id": "7F3miemK7ejH",
        "colab": {
          "base_uri": "https://localhost:8080/"
        },
        "outputId": "8eadde6d-7261-4aa5-8883-87ed1d2caeb5"
      },
      "source": [
        "lr.predict([[22]])"
      ],
      "execution_count": 29,
      "outputs": [
        {
          "output_type": "execute_result",
          "data": {
            "text/plain": [
              "array([[7602.16606498]])"
            ]
          },
          "metadata": {
            "tags": []
          },
          "execution_count": 29
        }
      ]
    },
    {
      "cell_type": "code",
      "metadata": {
        "id": "dnsaHvtPEC75",
        "colab": {
          "base_uri": "https://localhost:8080/"
        },
        "outputId": "29277501-2a45-4e06-8339-a1a00f384c0f"
      },
      "source": [
        "lr.predict([[33]])"
      ],
      "execution_count": 33,
      "outputs": [
        {
          "output_type": "execute_result",
          "data": {
            "text/plain": [
              "array([[16930.32490975]])"
            ]
          },
          "metadata": {
            "tags": []
          },
          "execution_count": 33
        }
      ]
    }
  ]
}